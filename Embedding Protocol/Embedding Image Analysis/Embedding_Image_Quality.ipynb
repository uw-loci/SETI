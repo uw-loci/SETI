{
 "cells": [
  {
   "cell_type": "markdown",
   "metadata": {},
   "source": [
    "# User Input"
   ]
  },
  {
   "cell_type": "code",
   "execution_count": 34,
   "metadata": {},
   "outputs": [],
   "source": [
    "# data_path is the full path to the folder with all the data sets to be processed\n",
    "data_path = 'D:\\LOCI\\Embedding\\data_t'\n",
    "\n",
    "# ij_local_installation is the full path to your local FIJI install with FLIMJ\n",
    "ij_local_installation = 'D:\\Fiji.app'\n",
    "\n",
    "# pixel_count_threshold is used to determine if a frame is valid for inclusion in the mean fluorescence intensity analysis\n",
    "pixel_count_threshold = 50000\n",
    "\n",
    "# Color for graphing the data\n",
    "bar_color = 'black'\n",
    "\n",
    "# Color for graphing the error bars of the data\n",
    "error_bar_color = 'red'"
   ]
  },
  {
   "cell_type": "markdown",
   "metadata": {},
   "source": [
    "# Dependencies"
   ]
  },
  {
   "cell_type": "code",
   "execution_count": 22,
   "metadata": {},
   "outputs": [],
   "source": [
    "import os\n",
    "import math\n",
    "import statistics\n",
    "import numpy as np\n",
    "import matplotlib.pyplot as plt\n",
    "import skimage.io\n",
    "import skimage.color\n",
    "import skimage.filters\n",
    "#import imagej\n",
    "from PIL import Image, ImageSequence"
   ]
  },
  {
   "cell_type": "markdown",
   "metadata": {},
   "source": [
    "# File Discovery"
   ]
  },
  {
   "cell_type": "code",
   "execution_count": 3,
   "metadata": {},
   "outputs": [
    {
     "name": "stdout",
     "output_type": "stream",
     "text": [
      "Embedding Methods Tested:\n",
      "['LR White', 'Raw', 'SPURR']\n",
      "---------------\n",
      "('LRwhite-struct-1_C1_TP0_SP0_FW0.ome', '.tiff')\n",
      "('LRwhite-struct-2_C1_TP0_SP0_FW0.ome', '.tiff')\n",
      "('LRwhite-struct-3_C1_TP0_SP0_FW0.ome', '.tiff')\n",
      "('LRwhite-struct-4_C1_TP0_SP0_FW0.ome', '.tiff')\n",
      "('LRwhite-struct-5_C1_TP0_SP0_FW0.ome', '.tiff')\n",
      "5 Images found for LR White\n",
      "-----------------\n",
      "('pbs-raw-struct-1_C1_TP0_SP0_FW0.ome', '.tiff')\n",
      "('pbs-raw-struct-2_C1_TP0_SP0_FW0.ome', '.tiff')\n",
      "('pbs-raw-struct-3_C1_TP0_SP0_FW0.ome', '.tiff')\n",
      "('pbs-raw-struct-4_C1_TP0_SP0_FW0.ome', '.tiff')\n",
      "('pbs-raw-struct-5_C1_TP0_SP0_FW0.ome', '.tiff')\n",
      "('pbs-raw-struct-6_C1_TP0_SP0_FW0.ome', '.tiff')\n",
      "6 Images found for Raw\n",
      "-----------------\n",
      "('SPURR_struct_1_C1_TP0_SP0_FW0.ome', '.tiff')\n",
      "('SPURR_Struct_2_C1_TP0_SP0_FW0.ome', '.tiff')\n",
      "('SPURR_struct_3_C1_TP0_SP0_FW0.ome', '.tiff')\n",
      "('SPURR_struct_4_C1_TP0_SP0_FW0.ome', '.tiff')\n",
      "('SPURR_struct_5_C1_TP0_SP0_FW0.ome', '.tiff')\n",
      "5 Images found for SPURR\n",
      "-----------------\n"
     ]
    }
   ],
   "source": [
    "# Get the Data Set Names\n",
    "list_names = []\n",
    "\n",
    "for (root, dirs, files) in os.walk(data_path):\n",
    "    list_names = dirs\n",
    "    break\n",
    "    \n",
    "print('Embedding Methods Tested:')    \n",
    "print(list_names)\n",
    "print('---------------')\n",
    "\n",
    "\n",
    "# Get Number of Data Sets\n",
    "num_data_sets = len(list_names)\n",
    "\n",
    "\n",
    "# Get the list of files per data set \n",
    "list_files = []\n",
    "for i in range(num_data_sets):\n",
    "    temp_list = []\n",
    "    list_files.append([])\n",
    "    \n",
    "    for (root, dirs, files) in os.walk(data_path + os.path.sep + list_names[i]):\n",
    "        if files != []:\n",
    "            for j in files:\n",
    "                # Need to differentiate pollen grain sample vs. structure being tested\n",
    "                if 'pollen' not in str.lower(root) and 'polen' not in str.lower(root) and os.path.splitext(j)[1] == '.tiff':\n",
    "                    temp_list.append(root + os.path.sep + j)\n",
    "                    print(os.path.splitext(j))\n",
    "    \n",
    "    list_files[i].append(temp_list)\n",
    "    print(str(len(temp_list)) + ' Images found for ' + list_names[i])\n",
    "    print('-----------------')\n",
    "    \n",
    "    \n",
    "\n",
    "# Initialize ImageJ Instance\n",
    "#ij = imagej.init(ij_local_installation,headless=True)"
   ]
  },
  {
   "cell_type": "markdown",
   "metadata": {},
   "source": [
    "# Mean Fluorescence Intensity Comparison and Image Quality Analysis"
   ]
  },
  {
   "cell_type": "code",
   "execution_count": 17,
   "metadata": {},
   "outputs": [
    {
     "name": "stdout",
     "output_type": "stream",
     "text": [
      "LR White\n",
      "Raw Mean Fluorescence Intensity:\n",
      "[121.77803650624651, 54.4894852200699, 95.55290486384229, 88.59967726186721, 92.85462666138386]\n",
      "Raw Mean Image Quality:\n",
      "[0, 0, 0, 0, 0]\n",
      "--------------------\n",
      "Raw\n",
      "Raw Mean Fluorescence Intensity:\n",
      "[21.596741669803976, 49.39465868669188, 51.03468166100021, 67.3267054072603, 74.52746544639521, 61.83449909747292]\n",
      "Raw Mean Image Quality:\n",
      "[0, 0, 0, 0, 0, 0]\n",
      "--------------------\n",
      "SPURR\n",
      "Raw Mean Fluorescence Intensity:\n",
      "[39.661554552963295, 27.86295198862952, 46.68085602438932, 13.737888092483828, 50.6155097679727]\n",
      "Raw Mean Image Quality:\n",
      "[0, 0, 0, 0, 0]\n",
      "--------------------\n"
     ]
    }
   ],
   "source": [
    "# Initialize Storage Variables\n",
    "mean_fluorescence_raw = []\n",
    "image_quality_raw = []\n",
    "\n",
    "# Iterate across all data sets\n",
    "for i in range(num_data_sets):\n",
    "    \n",
    "    temp_mean_fl_raw = []\n",
    "    temp_img_qlty_raw = []\n",
    "    \n",
    "    temp_list_files = list_files[i][0]\n",
    "    \n",
    "    # Iterate on each image within a data set\n",
    "    for j in temp_list_files:\n",
    "        \n",
    "        temp_slice_mean_fl_raw = []\n",
    "        temp_slice_img_qlty_raw = []\n",
    "        \n",
    "        # Load Image Stack\n",
    "        temp_img_stack = Image.open(j)\n",
    "        \n",
    "        # Iterate on each Z-Slice\n",
    "        for frame in ImageSequence.Iterator(temp_img_stack):\n",
    "            temp_img = np.array(frame)\n",
    "            \n",
    "            # Mean Fluorescence Intensity\n",
    "            thresh = skimage.filters.threshold_otsu(temp_img)\n",
    "            bin_mask = temp_img > thresh\n",
    "            img_pixels = np.count_nonzero(bin_mask)\n",
    "            \n",
    "            # Check that enough pixels are present to accurately estimate\n",
    "            if img_pixels > pixel_count_threshold:\n",
    "                selection = temp_img.copy()\n",
    "                selection[~bin_mask] = 0\n",
    "                \n",
    "                temp_slice_mean_fl_raw.append(np.sum(selection) / img_pixels)\n",
    "            \n",
    "            \n",
    "            # Image Quality Analysis\n",
    "            \n",
    "            temp_iq_value = 0\n",
    "            \n",
    "            \n",
    "            \n",
    "            temp_slice_img_qlty_raw.append(temp_iq_value)\n",
    "            \n",
    "        # Mean Fluorescence Intensity Peak Value\n",
    "        temp_mean_fl_raw.append(max(temp_slice_mean_fl_raw))\n",
    "    \n",
    "        # Image Quality Analysis Peak Score\n",
    "        temp_img_qlty_raw.append(max(temp_slice_img_qlty_raw))\n",
    "        \n",
    "        \n",
    "    # Store Raw Values\n",
    "    mean_fluorescence_raw.append(temp_mean_fl_raw)\n",
    "    image_quality_raw.append(temp_img_qlty_raw)\n",
    "    \n",
    "    print(list_names[i])\n",
    "    print('Raw Mean Fluorescence Intensity:')\n",
    "    print(temp_mean_fl_raw)\n",
    "    print('Raw Mean Image Quality:')\n",
    "    print(temp_img_qlty_raw)\n",
    "    print('--------------------')"
   ]
  },
  {
   "cell_type": "markdown",
   "metadata": {},
   "source": [
    "# Results"
   ]
  },
  {
   "cell_type": "code",
   "execution_count": 37,
   "metadata": {},
   "outputs": [
    {
     "name": "stdout",
     "output_type": "stream",
     "text": [
      "LR White\n",
      "Fluorescence Intensity, mean =  90.65 , std dev =  24.03\n",
      "Image Quality, mean =  0 , std dev =  0.0\n",
      "--------------------\n",
      "Raw\n",
      "Fluorescence Intensity, mean =  54.29 , std dev =  18.65\n",
      "Image Quality, mean =  0 , std dev =  0.0\n",
      "--------------------\n",
      "SPURR\n",
      "Fluorescence Intensity, mean =  35.71 , std dev =  15.02\n",
      "Image Quality, mean =  0 , std dev =  0.0\n",
      "--------------------\n"
     ]
    },
    {
     "data": {
      "image/png": "[encoded data removed]",
      "text/plain": [
       "<Figure size 432x288 with 1 Axes>"
      ]
     },
     "metadata": {
      "needs_background": "light"
     },
     "output_type": "display_data"
    },
    {
     "data": {
      "image/png": "[encoded data removed]",
      "text/plain": [
       "<Figure size 432x288 with 1 Axes>"
      ]
     },
     "metadata": {
      "needs_background": "light"
     },
     "output_type": "display_data"
    }
   ],
   "source": [
    "# Calculate Mean, Std Deviation, and Std Error of Data Sets\n",
    "mean_fluorescence_mean = []\n",
    "image_quality_mean = []\n",
    "\n",
    "mean_fluorescence_stdev = []\n",
    "image_quality_stdev = []\n",
    "\n",
    "mean_fluorescence_stderror = []\n",
    "image_quality_stderror = []\n",
    "\n",
    "for i in range(num_data_sets):\n",
    "    \n",
    "    # Get Mean\n",
    "    mean_fluorescence_mean.append(statistics.mean(mean_fluorescence_raw[i]))\n",
    "    image_quality_mean.append(statistics.mean(image_quality_raw[i]))\n",
    "    \n",
    "    # Get Standard Deviation\n",
    "    mean_fluorescence_stdev.append(statistics.stdev(mean_fluorescence_raw[i]))\n",
    "    image_quality_stdev.append(statistics.stdev(image_quality_raw[i]))\n",
    "    \n",
    "    # Get Standard Error\n",
    "    mean_fluorescence_stderror.append(mean_fluorescence_stdev[i] / math.sqrt(len(mean_fluorescence_raw[i])))\n",
    "    image_quality_stderror.append(image_quality_stdev[i] / math.sqrt(len(image_quality_raw[i])))\n",
    "    \n",
    "    \n",
    "    # Print Numerical Results\n",
    "    print(list_names[i])\n",
    "    print(\"Fluorescence Intensity, mean = \", round(mean_fluorescence_mean[i],2), \", std dev = \", round(mean_fluorescence_stdev[i],2))\n",
    "    print(\"Image Quality, mean = \", round(image_quality_mean[i],2), \", std dev = \", round(image_quality_stdev[i],2))\n",
    "    print('--------------------')\n",
    "\n",
    "    \n",
    "    \n",
    "# Plot Mean Results with Std Dev Bars and Labels Scrounged from Folder Titles\n",
    "\n",
    "plt.figure(num=1)\n",
    "plt.bar(list_names, mean_fluorescence_mean, color=bar_color)\n",
    "plt.errorbar(list_names, mean_fluorescence_mean, yerr = mean_fluorescence_stderror, xerr=None, color=error_bar_color, fmt='o')\n",
    "plt.title('Fluorescence Intensity')\n",
    "plt.show()\n",
    "\n",
    "plt.figure(num=2)\n",
    "plt.bar(list_names, image_quality_mean, color=bar_color)\n",
    "plt.errorbar(list_names, image_quality_mean, yerr = image_quality_stderror, xerr=None, color=error_bar_color, fmt='o')\n",
    "plt.title('Image Quality')\n",
    "plt.show()"
   ]
  },
  {
   "cell_type": "markdown",
   "metadata": {},
   "source": [
    "### Close the JVM ImageJ Instance"
   ]
  },
  {
   "cell_type": "code",
   "execution_count": 5,
   "metadata": {},
   "outputs": [],
   "source": [
    "ij.dispose()"
   ]
  },
  {
   "cell_type": "markdown",
   "metadata": {},
   "source": [
    " "
   ]
  }
 ],
 "metadata": {
  "kernelspec": {
   "display_name": "Python 3 (ipykernel)",
   "language": "python",
   "name": "python3"
  },
  "language_info": {
   "codemirror_mode": {
    "name": "ipython",
    "version": 3
   },
   "file_extension": ".py",
   "mimetype": "text/x-python",
   "name": "python",
   "nbconvert_exporter": "python",
   "pygments_lexer": "ipython3",
   "version": "3.8.13"
  },
  "toc": {
   "base_numbering": 1,
   "nav_menu": {},
   "number_sections": false,
   "sideBar": false,
   "skip_h1_title": false,
   "title_cell": "Table of Contents",
   "title_sidebar": "Contents",
   "toc_cell": false,
   "toc_position": {},
   "toc_section_display": false,
   "toc_window_display": false
  }
 },
 "nbformat": 4,
 "nbformat_minor": 2
}
